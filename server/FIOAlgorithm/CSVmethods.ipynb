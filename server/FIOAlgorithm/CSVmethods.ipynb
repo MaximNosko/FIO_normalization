{
 "cells": [
  {
   "cell_type": "code",
   "execution_count": 3,
   "metadata": {},
   "outputs": [],
   "source": [
    "#Преобразует словарь в два дерева - с прямым и обратным порядком слов\n",
    "def DictIntoDatrie(dictToDo):\n",
    "    import datrie\n",
    "    ALPHABET = u'-АБВГДЕЁЖЗИЙКЛМНОПРСТУФХЦЧШЩЪЫЬЭЮЯабвгдеёжзийклмнопрстуфхцчшщъыьэюя'\n",
    "    directTrie = datrie.BaseTrie(ALPHABET)\n",
    "    reverseTrie = datrie.BaseTrie(ALPHABET)\n",
    "    for element in dictToDo:\n",
    "        directTrie[element] = dictToDo[element][\"frequency\"]\n",
    "        reverseTrie[element[::-1]] = dictToDo[element][\"frequency\"]\n",
    "    #directTrie.save('Trie.trie')\n",
    "    return directTrie, reverseTrie"
   ]
  },
  {
   "cell_type": "code",
   "execution_count": 4,
   "metadata": {},
   "outputs": [],
   "source": [
    "def CSVtoDict(filePath):\n",
    "    import csv, re    \n",
    "    input_file = open(filePath,'r')\n",
    "    reader = csv.DictReader(input_file, delimiter=';')\n",
    "    dict_list = []\n",
    "    for line in reader:\n",
    "        dict_list.append(line)\n",
    "    \n",
    "    headings = list(dict_list[0].keys())\n",
    "    dictNew = {}\n",
    "    for el in dict_list:\n",
    "        newEl = el.copy()\n",
    "        newEl.pop(\"key\")\n",
    "        dictNew[el[\"key\"]] = newEl\n",
    "    \n",
    "    if \"probability\" in headings:\n",
    "        for el in dictNew:\n",
    "            dictNew[el][\"probability\"] = float(dictNew[el][\"probability\"])\n",
    "    if \"frequency\" in headings:\n",
    "        for el in dictNew:\n",
    "            dictNew[el][\"frequency\"] = int(dictNew[el][\"frequency\"])\n",
    "    if \"full_form\" in headings:\n",
    "        for el in dictNew:\n",
    "            dictNew[el][\"full_form\"] = re.findall(r'[абвгдеёжзийклмнопрстуфхцчшщъыьэюя]\\w+', dictNew[el][\"full_form\"])\n",
    "    \n",
    "    return dictNew"
   ]
  },
  {
   "cell_type": "code",
   "execution_count": 5,
   "metadata": {},
   "outputs": [],
   "source": [
    "def DictToCSV(filePath, dictToWrite):\n",
    "    import csv \n",
    "    with open(filePath, 'w', newline='') as csvfile:\n",
    "        headings = [\"key\"]+list(dictToWrite[list(dictToWrite.keys())[0]].keys())\n",
    "        csvWriter = csv.writer(csvfile, delimiter=';')\n",
    "        csvWriter.writerow(headings)\n",
    "        for s in dictToWrite:\n",
    "            tempList = [s] + list(dictToWrite[s].values())\n",
    "            csvWriter.writerow(tempList)"
   ]
  },
  {
   "cell_type": "code",
   "execution_count": 25,
   "metadata": {},
   "outputs": [],
   "source": [
    "#Загружаем из CSV\n",
    "pathDirectory = \"\" #Путь к папке, где хранятся все базы\n",
    "surnamesFile = \"surnames.csv\" #Имя файла с фамилиями\n",
    "namesFile = \"names.csv\" #Имя файла с именами\n",
    "patronymicsFile = \"patronymics.csv\" #Имя файла с отчествами\n",
    "\n",
    "surnames = CSVtoDict(pathDirectory+surnamesFile)\n",
    "names = CSVtoDict(pathDirectory+namesFile)\n",
    "patronymics = CSVtoDict(pathDirectory+patronymicsFile)\n",
    "\n",
    "bases = [surnames, names, patronymics] \n",
    "\n",
    "surnamesTrie, surnamesTrieReverse = DictIntoDatrie(surnames)\n",
    "namesTrie, namesTrieReverse = DictIntoDatrie(names)\n",
    "patronymicsTrie, patronymicsTrieReverse = DictIntoDatrie(patronymics)\n",
    "\n",
    "tries = [surnamesTrie, namesTrie, patronymicsTrie]\n",
    "triesReverse = [surnamesTrieReverse, namesTrieReverse, patronymicsTrieReverse]"
   ]
  },
  {
   "cell_type": "code",
   "execution_count": 26,
   "metadata": {},
   "outputs": [],
   "source": [
    "#Сохраняем словари и деревья\n",
    "import pickle\n",
    "with open('surnames.pickle', 'wb') as f:\n",
    "    pickle.dump(surnames, f)\n",
    "with open('names.pickle', 'wb') as f:\n",
    "    pickle.dump(names, f)\n",
    "with open('patronymics.pickle', 'wb') as f:\n",
    "    pickle.dump(patronymics, f)\n",
    "\n",
    "surnamesTrie.save('surnamesTrie.trie')\n",
    "namesTrie.save('namesTrie.trie')\n",
    "patronymicsTrie.save('patronymicsTrie.trie')\n",
    "surnamesTrieReverse.save('surnamesTrieReverse.trie')\n",
    "namesTrieReverse.save('namesTrieReverse.trie')\n",
    "patronymicsTrieReverse.save('patronymicsTrieReverse.trie')"
   ]
  },
  {
   "cell_type": "code",
   "execution_count": null,
   "metadata": {},
   "outputs": [],
   "source": [
    "#Загружаем словари и деревья из дампов\n",
    "\n",
    "#Загрузка словарей\n",
    "path_to_surnames = pathDirectory +\"surnames.pickle\"\n",
    "path_to_names = pathDirectory +\"names.pickle\"\n",
    "path_to_patronymics = pathDirectory +\"patronymics.pickle\"\n",
    "\n",
    "with open(path_to_surnames,\"rb\") as f:\n",
    "    surnames=pickle.load(f)\n",
    "with open(path_to_names,\"rb\") as f:\n",
    "    names=pickle.load(f)\n",
    "with open(path_to_patronymics,\"rb\") as f:\n",
    "    patronymics=pickle.load(f)  \n",
    "    \n",
    "#Загрузка деревьев\n",
    "import datrie\n",
    "\n",
    "surnamesTrie = datrie.BaseTrie.load('surnamesTrie.trie')\n",
    "namesTrie = datrie.BaseTrie.load('namesTrie.trie')\n",
    "patronymicsTrie = datrie.BaseTrie.load('patronymicsTrie.trie')\n",
    "\n",
    "tries = [surnamesTrie, namesTrie, patronymicsTrie]   \n",
    "\n",
    "surnamesTrieReverse = datrie.BaseTrie.load('surnamesTrieReverse.trie')\n",
    "namesTrieReverse = datrie.BaseTrie.load('namesTrieReverse.trie')\n",
    "patronymicsTrieReverse = datrie.BaseTrie.load('patronymicsTrieReverse.trie')\n",
    "\n",
    "triesReverse = [surnamesTrieReverse, namesTrieReverse, patronymicsTrieReverse]   "
   ]
  }
 ],
 "metadata": {
  "kernelspec": {
   "display_name": "Python 2",
   "language": "python",
   "name": "python2"
  },
  "language_info": {
   "codemirror_mode": {
    "name": "ipython",
    "version": 2
   },
   "file_extension": ".py",
   "mimetype": "text/x-python",
   "name": "python",
   "nbconvert_exporter": "python",
   "pygments_lexer": "ipython2",
   "version": "2.7.6"
  }
 },
 "nbformat": 4,
 "nbformat_minor": 0
}
